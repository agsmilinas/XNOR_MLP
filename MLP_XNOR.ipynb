{
 "cells": [
  {
   "cell_type": "markdown",
   "metadata": {},
   "source": [
    "# Linear Threshold Unit Network\n",
    "## Programming and evaluation of a network of neurons with unit-step activation functions that approximates the XNOR (⊙) operation given by"
   ]
  },
  {
   "cell_type": "markdown",
   "metadata": {},
   "source": [
    "| X | X2   |   Y |\n",
    "|------|------|-----|\n",
    "|   0  | 0| 1|\n",
    "|   0  | 1| 0|\n",
    "|   1  | 0| 0|\n",
    "|   1  | 1| 1|"
   ]
  },
  {
   "cell_type": "code",
   "execution_count": 1,
   "metadata": {},
   "outputs": [],
   "source": [
    "import numpy as np"
   ]
  },
  {
   "cell_type": "markdown",
   "metadata": {},
   "source": [
    "### Activation function:\n",
    "#### Unitary Step\n",
    "Function to express the unit step of a scalar: "
   ]
  },
  {
   "cell_type": "code",
   "execution_count": 2,
   "metadata": {},
   "outputs": [],
   "source": [
    "def escalon(z):\n",
    "    if z > 0.0:\n",
    "        return 1.0\n",
    "    else:\n",
    "        return 0.0"
   ]
  },
  {
   "cell_type": "code",
   "execution_count": 3,
   "metadata": {},
   "outputs": [],
   "source": [
    "def negacion(z):\n",
    "    if z == 1.0:\n",
    "        return 0.0\n",
    "    else:\n",
    "        return 1.0"
   ]
  },
  {
   "cell_type": "markdown",
   "metadata": {},
   "source": [
    "### Weighted Sum\n",
    "$\n",
    "z = w_1 \\cdot x_1 + w_2 \\cdot x_2 + \\cdots + w_d \\cdot x_d + b \n",
    "$\n",
    "\n",
    "$\n",
    "z = \\mathbf{w}^T \\mathbf{x} + b\n",
    "$\n",
    "\n",
    "A function is created to carry out the weighted sum and pass it through the activation function (unit step) previously defined"
   ]
  },
  {
   "cell_type": "code",
   "execution_count": 4,
   "metadata": {},
   "outputs": [],
   "source": [
    "def neurona(w,x,b):\n",
    "  z = np.dot(w.T, x) + b\n",
    "  a = escalon(z)\n",
    "  return a"
   ]
  },
  {
   "cell_type": "markdown",
   "metadata": {},
   "source": [
    "### XNOR --> Q = ¬(A+B) + (AB)"
   ]
  },
  {
   "cell_type": "markdown",
   "metadata": {},
   "source": [
    "### It is proceeded to implement functions of the OR, AND AND NOR operators"
   ]
  },
  {
   "cell_type": "markdown",
   "metadata": {},
   "source": [
    "#### OR (V)\n",
    "### OR operation approximation; given by\n",
    "| $x_1$ | $x_2$ | $y$\n",
    "| ------------- |:-------------:| -----:|\n",
    "|0 |0 |0|\n",
    "|0 |1 |1|\n",
    "|1 |0 |1|\n",
    "|1 |1 |1|"
   ]
  },
  {
   "cell_type": "code",
   "execution_count": 6,
   "metadata": {},
   "outputs": [
    {
     "name": "stdout",
     "output_type": "stream",
     "text": [
      "-----------------------------\n",
      "x_1 \tx_2 \ty_hat\n",
      "-----------------------------\n",
      "0.0 \t0.0\t0.0\n",
      "0.0 \t1.0\t1.0\n",
      "1.0 \t0.0\t1.0\n",
      "1.0 \t1.0\t1.0\n"
     ]
    }
   ],
   "source": [
    "X = np.array([[0., 0.], [0., 1.], [1., 0.], [1., 1.]])\n",
    "w = np.array([10, 10]).T\n",
    "b = -5\n",
    "\n",
    "print('-----------------------------')\n",
    "print('x_1 \\tx_2 \\ty_hat')\n",
    "print('-----------------------------')\n",
    "def _OR_(X):\n",
    "    for i in range(X.shape[0]):\n",
    "      y_hat = neurona(X[i, :], w, b)\n",
    "      print('{0} \\t{1}\\t{2}'.format(X[i, 0], X[i, 1], y_hat))\n",
    "\n",
    "_OR_(X)"
   ]
  },
  {
   "cell_type": "markdown",
   "metadata": {},
   "source": [
    "## AND (∧)\n",
    "### AND operation approximation; given by\n",
    "\n",
    "| $x_1$ | $x_2$ | $y$\n",
    "| ------------- |:-------------:| -----:|\n",
    "|0 |0 |0|\n",
    "|0 |1 |0|\n",
    "|1 |0 |0|\n",
    "|1 |1 |1|"
   ]
  },
  {
   "cell_type": "code",
   "execution_count": 7,
   "metadata": {},
   "outputs": [
    {
     "name": "stdout",
     "output_type": "stream",
     "text": [
      "-----------------------------\n",
      "x_1 \tx_2 \ty_hat\n",
      "-----------------------------\n",
      "0.0 \t0.0\t0.0\n",
      "0.0 \t1.0\t0.0\n",
      "1.0 \t0.0\t0.0\n",
      "1.0 \t1.0\t1.0\n"
     ]
    }
   ],
   "source": [
    "X = np.array([[0., 0.], [0., 1.], [1., 0.], [1., 1.]])\n",
    "w = np.array([10, 10]).T\n",
    "b = -15\n",
    "\n",
    "print('-----------------------------')\n",
    "print('x_1 \\tx_2 \\ty_hat')\n",
    "print('-----------------------------')\n",
    "def _AND_(X):\n",
    "    for i in range(X.shape[0]):\n",
    "      y_hat = neurona(X[i, :], w, b)\n",
    "      print('{0} \\t{1}\\t{2}'.format(X[i, 0], X[i, 1], y_hat))\n",
    "_AND_(X)"
   ]
  },
  {
   "cell_type": "markdown",
   "metadata": {},
   "source": [
    "## NOR \n",
    "### NOR operation approximation; given by\n",
    "\n",
    "| $x_1$ | $x_2$ | $y$\n",
    "| ------------- |:-------------:| -----:|\n",
    "|0 |0 |1|\n",
    "|0 |1 |0|\n",
    "|1 |0 |0|\n",
    "|1 |1 |0|"
   ]
  },
  {
   "cell_type": "code",
   "execution_count": 9,
   "metadata": {},
   "outputs": [
    {
     "name": "stdout",
     "output_type": "stream",
     "text": [
      "-----------------------------\n",
      "x_1 \tx_2 \ty_hat\n",
      "-----------------------------\n",
      "0.0 \t0.0\t1.0\n",
      "0.0 \t1.0\t0.0\n",
      "1.0 \t0.0\t0.0\n",
      "1.0 \t1.0\t0.0\n"
     ]
    }
   ],
   "source": [
    "X = np.array([[0., 0.], [0., 1.], [1., 0.], [1., 1.]])\n",
    "w = np.array([-10, -10]).T\n",
    "b = 5\n",
    "\n",
    "print('-----------------------------')\n",
    "print('x_1 \\tx_2 \\ty_hat')\n",
    "print('-----------------------------')\n",
    "def _NOR_(X):\n",
    "    for i in range(X.shape[0]):\n",
    "      y_hat = neurona(X[i, :], w, b)\n",
    "      print('{0} \\t{1}\\t{2}'.format(X[i, 0], X[i, 1], y_hat))\n",
    "_NOR_(X)"
   ]
  },
  {
   "cell_type": "markdown",
   "metadata": {},
   "source": [
    "### Multilayer Perceptron Network"
   ]
  },
  {
   "cell_type": "code",
   "execution_count": 10,
   "metadata": {},
   "outputs": [],
   "source": [
    "def multicapa(x, W1, b1, W2, b2):\n",
    "  escv = np.vectorize(escalon)\n",
    "  a = escv(np.dot(W1.T, x) + b1)\n",
    "  return escv(np.dot(W2.T, a) + b2)"
   ]
  },
  {
   "cell_type": "markdown",
   "metadata": {},
   "source": [
    "## Nonlinear XNOR Function Implementation with a Multilayer Perceptron Network"
   ]
  },
  {
   "cell_type": "code",
   "execution_count": 12,
   "metadata": {},
   "outputs": [
    {
     "name": "stdout",
     "output_type": "stream",
     "text": [
      "W_1 = [[ 10 -10][ 10 -10]], b_1 = [-15   5]\n",
      "W_2 = [[10][10]], b_2 = [-5]\n",
      "-----------------------------\n",
      "x_1 \tx_2 \ty\ty_hat\n",
      "-----------------------------\n",
      "0.0\t0.0\t1.0\t1.0\n",
      "0.0\t1.0\t0.0\t0.0\n",
      "1.0\t0.0\t0.0\t0.0\n",
      "1.0\t1.0\t1.0\t1.0\n"
     ]
    }
   ],
   "source": [
    "y_xnor = np.array([1., 0., 0., 1.])\n",
    "W1 = np.array([[10, -10], [10, -10]])\n",
    "b1 = np.array([-15, 5])\n",
    "\n",
    "W2 = np.array([[10], [10]])\n",
    "b2 = np.array([-5])\n",
    "\n",
    "print('W_1 = [{0}{1}], b_1 = {2}'.format(W1[0, :], W1[1, :], b1))\n",
    "print('W_2 = [{0}{1}], b_2 = {2}'.format(W2[0], W2[1], b2))\n",
    "print('-----------------------------')\n",
    "print('x_1 \\tx_2 \\ty\\ty_hat')\n",
    "print('-----------------------------')\n",
    "for i in range(X.shape[0]):\n",
    "  y_hat = multicapa(X[i], W1, b1, W2, b2)\n",
    "  print('{0}\\t{1}\\t{2}\\t{3}'.format(X[i, 0], X[i, 1], y_xnor[i], y_hat[0]))"
   ]
  },
  {
   "cell_type": "code",
   "execution_count": null,
   "metadata": {},
   "outputs": [],
   "source": []
  }
 ],
 "metadata": {
  "kernelspec": {
   "display_name": "Python 3",
   "language": "python",
   "name": "python3"
  },
  "language_info": {
   "codemirror_mode": {
    "name": "ipython",
    "version": 3
   },
   "file_extension": ".py",
   "mimetype": "text/x-python",
   "name": "python",
   "nbconvert_exporter": "python",
   "pygments_lexer": "ipython3",
   "version": "3.8.3"
  }
 },
 "nbformat": 4,
 "nbformat_minor": 4
}
